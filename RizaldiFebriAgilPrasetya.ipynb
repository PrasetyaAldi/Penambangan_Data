{
 "cells": [
  {
   "cell_type": "code",
   "execution_count": 1,
   "metadata": {},
   "outputs": [
    {
     "data": {
      "text/html": [
       "<div>\n",
       "<style scoped>\n",
       "    .dataframe tbody tr th:only-of-type {\n",
       "        vertical-align: middle;\n",
       "    }\n",
       "\n",
       "    .dataframe tbody tr th {\n",
       "        vertical-align: top;\n",
       "    }\n",
       "\n",
       "    .dataframe thead th {\n",
       "        text-align: right;\n",
       "    }\n",
       "</style>\n",
       "<table border=\"1\" class=\"dataframe\">\n",
       "  <thead>\n",
       "    <tr style=\"text-align: right;\">\n",
       "      <th></th>\n",
       "      <th>Number of O-rings at risk on a given flight</th>\n",
       "      <th>Number experiencing thermal distress</th>\n",
       "      <th>Launch temperature (degrees F)</th>\n",
       "      <th>Leak-check pressure (psi)</th>\n",
       "      <th>Temporal order of flight</th>\n",
       "    </tr>\n",
       "  </thead>\n",
       "  <tbody>\n",
       "    <tr>\n",
       "      <th>0</th>\n",
       "      <td>6</td>\n",
       "      <td>0</td>\n",
       "      <td>66</td>\n",
       "      <td>50</td>\n",
       "      <td>1</td>\n",
       "    </tr>\n",
       "    <tr>\n",
       "      <th>1</th>\n",
       "      <td>6</td>\n",
       "      <td>1</td>\n",
       "      <td>70</td>\n",
       "      <td>50</td>\n",
       "      <td>2</td>\n",
       "    </tr>\n",
       "    <tr>\n",
       "      <th>2</th>\n",
       "      <td>6</td>\n",
       "      <td>0</td>\n",
       "      <td>69</td>\n",
       "      <td>50</td>\n",
       "      <td>3</td>\n",
       "    </tr>\n",
       "    <tr>\n",
       "      <th>3</th>\n",
       "      <td>6</td>\n",
       "      <td>0</td>\n",
       "      <td>68</td>\n",
       "      <td>50</td>\n",
       "      <td>4</td>\n",
       "    </tr>\n",
       "  </tbody>\n",
       "</table>\n",
       "</div>"
      ],
      "text/plain": [
       "   Number of O-rings at risk on a given flight  \\\n",
       "0                                            6   \n",
       "1                                            6   \n",
       "2                                            6   \n",
       "3                                            6   \n",
       "\n",
       "   Number experiencing thermal distress  Launch temperature (degrees F)  \\\n",
       "0                                     0                              66   \n",
       "1                                     1                              70   \n",
       "2                                     0                              69   \n",
       "3                                     0                              68   \n",
       "\n",
       "   Leak-check pressure (psi)  Temporal order of flight  \n",
       "0                         50                         1  \n",
       "1                         50                         2  \n",
       "2                         50                         3  \n",
       "3                         50                         4  "
      ]
     },
     "execution_count": 1,
     "metadata": {},
     "output_type": "execute_result"
    }
   ],
   "source": [
    "import pandas as pd\n",
    "from scipy import stats\n",
    "df = pd.read_csv('data_2.csv',nrows=4, sep=\";\")\n",
    "df"
   ]
  },
  {
   "cell_type": "code",
   "execution_count": 2,
   "metadata": {},
   "outputs": [
    {
     "data": {
      "text/html": [
       "<div>\n",
       "<style scoped>\n",
       "    .dataframe tbody tr th:only-of-type {\n",
       "        vertical-align: middle;\n",
       "    }\n",
       "\n",
       "    .dataframe tbody tr th {\n",
       "        vertical-align: top;\n",
       "    }\n",
       "\n",
       "    .dataframe thead th {\n",
       "        text-align: right;\n",
       "    }\n",
       "</style>\n",
       "<table border=\"1\" class=\"dataframe\">\n",
       "  <thead>\n",
       "    <tr style=\"text-align: right;\">\n",
       "      <th></th>\n",
       "      <th>set A-set B</th>\n",
       "      <th>Minkowski (M=1)</th>\n",
       "      <th>Minkowski (M=2)</th>\n",
       "    </tr>\n",
       "  </thead>\n",
       "  <tbody>\n",
       "    <tr>\n",
       "      <th>0</th>\n",
       "      <td>v0-v1</td>\n",
       "      <td>6.0</td>\n",
       "      <td>4.242641</td>\n",
       "    </tr>\n",
       "    <tr>\n",
       "      <th>1</th>\n",
       "      <td>v0-v2</td>\n",
       "      <td>5.0</td>\n",
       "      <td>3.605551</td>\n",
       "    </tr>\n",
       "    <tr>\n",
       "      <th>2</th>\n",
       "      <td>v0-v3</td>\n",
       "      <td>5.0</td>\n",
       "      <td>3.605551</td>\n",
       "    </tr>\n",
       "    <tr>\n",
       "      <th>3</th>\n",
       "      <td>v1-v2</td>\n",
       "      <td>3.0</td>\n",
       "      <td>1.732051</td>\n",
       "    </tr>\n",
       "    <tr>\n",
       "      <th>4</th>\n",
       "      <td>v1-v3</td>\n",
       "      <td>5.0</td>\n",
       "      <td>3.000000</td>\n",
       "    </tr>\n",
       "    <tr>\n",
       "      <th>5</th>\n",
       "      <td>v2-v3</td>\n",
       "      <td>2.0</td>\n",
       "      <td>1.414214</td>\n",
       "    </tr>\n",
       "  </tbody>\n",
       "</table>\n",
       "</div>"
      ],
      "text/plain": [
       "  set A-set B  Minkowski (M=1)  Minkowski (M=2)\n",
       "0       v0-v1              6.0         4.242641\n",
       "1       v0-v2              5.0         3.605551\n",
       "2       v0-v3              5.0         3.605551\n",
       "3       v1-v2              3.0         1.732051\n",
       "4       v1-v3              5.0         3.000000\n",
       "5       v2-v3              2.0         1.414214"
      ]
     },
     "execution_count": 2,
     "metadata": {},
     "output_type": "execute_result"
    }
   ],
   "source": [
    "import scipy.spatial.distance as dist\n",
    "import itertools\n",
    "\n",
    "def minkowski(a, b, m):\n",
    "    return sum(a)+sum(b)\n",
    "dfvalues = df.values.tolist()\n",
    "data = [\n",
    "    [\"v{}-v{}\".format(a, b), \n",
    "     dist.minkowski(dfvalues[a], dfvalues[b], 1), \n",
    "     dist.minkowski(dfvalues[a], dfvalues[b], 2)] \n",
    "    for a, b in itertools.combinations(range(4), 2)\n",
    "]\n",
    "columns = [\"set A-set B\", 'Minkowski (M=1)', 'Minkowski (M=2)']\n",
    "pd.DataFrame(data, columns=columns)"
   ]
  },
  {
   "cell_type": "code",
   "execution_count": 3,
   "metadata": {},
   "outputs": [],
   "source": [
    "numerical=[0,3]\n",
    "categorical=[1,2,6,7]\n",
    "binary=[4,5,8]\n",
    "ordinal=[1,2]"
   ]
  },
  {
   "cell_type": "markdown",
   "metadata": {},
   "source": [
    "# Jarak Numerik"
   ]
  },
  {
   "cell_type": "code",
   "execution_count": 4,
   "metadata": {},
   "outputs": [],
   "source": [
    "def chordDist(v1,v2,jnis):\n",
    "    jmlh=0\n",
    "    normv1=0\n",
    "    normv2=0\n",
    "    for x in range (len(jnis)):\n",
    "        normv1=normv1+(int(df.values.tolist()[v1][jnis[x]])**2)\n",
    "        normv2=normv2+(int(df.values.tolist()[v1][jnis[x]])**2)\n",
    "        jmlh=jmlh+(int(df.values.tolist()[v1][jnis[x]])*int(df.values.tolist()[v2][jnis[x]]))\n",
    "    return ((2-(2*jmlh/(normv1*normv2)))**0.5)\n"
   ]
  },
  {
   "cell_type": "code",
   "execution_count": 5,
   "metadata": {},
   "outputs": [
    {
     "data": {
      "text/html": [
       "<table>\n",
       "<tbody>\n",
       "<tr><td>Data </td><td>Jarak</td><td>Numeric</td><td>Ordinal</td><td>Categorical</td><td>Binary</td></tr>\n",
       "<tr><td>v0-v1</td><td>0    </td><td>1.41   </td><td>0      </td><td>0          </td><td>0     </td></tr>\n",
       "<tr><td>v0-v2</td><td>0    </td><td>1.41   </td><td>0      </td><td>0          </td><td>0     </td></tr>\n",
       "<tr><td>v0-v3</td><td>0    </td><td>1.41   </td><td>0      </td><td>0          </td><td>0     </td></tr>\n",
       "<tr><td>v1-v2</td><td>0    </td><td>1.41   </td><td>0      </td><td>0          </td><td>0     </td></tr>\n",
       "<tr><td>v1-v3</td><td>0    </td><td>1.41   </td><td>0      </td><td>0          </td><td>0     </td></tr>\n",
       "<tr><td>v2-v3</td><td>0    </td><td>1.41   </td><td>0      </td><td>0          </td><td>0     </td></tr>\n",
       "</tbody>\n",
       "</table>"
      ],
      "text/plain": [
       "<IPython.core.display.HTML object>"
      ]
     },
     "metadata": {},
     "output_type": "display_data"
    }
   ],
   "source": [
    "from IPython.display import HTML, display\n",
    "import tabulate\n",
    "table=[\n",
    "    [\"Data\"]+[\"Jarak\"]+[\"Numeric\"]+[\"Ordinal\"]+[\"Categorical\"]+[\"Binary\"],\n",
    "    [\"v0-v1\"]+[0]+[\"{:.2f}\".format(chordDist(0,1,numerical))]+[0]+[0]+[0],\n",
    "    [\"v0-v2\"]+[0]+[\"{:.2f}\".format(chordDist(0,2,numerical))]+[0]+[0]+[0],\n",
    "    [\"v0-v3\"]+[0]+[\"{:.2f}\".format(chordDist(0,3,numerical))]+[0]+[0]+[0],\n",
    "    [\"v1-v2\"]+[0]+[\"{:.2f}\".format(chordDist(1,2,numerical))]+[0]+[0]+[0],\n",
    "    [\"v1-v3\"]+[0]+[\"{:.2f}\".format(chordDist(1,3,numerical))]+[0]+[0]+[0],\n",
    "    [\"v2-v3\"]+[0]+[\"{:.2f}\".format(chordDist(2,3,numerical))]+[0]+[0]+[0],\n",
    "    \n",
    "    ]\n",
    "\n",
    "display(HTML(tabulate.tabulate(table, tablefmt='html')))"
   ]
  }
 ],
 "metadata": {
  "kernelspec": {
   "display_name": "Python 3",
   "language": "python",
   "name": "python3"
  },
  "language_info": {
   "codemirror_mode": {
    "name": "ipython",
    "version": 3
   },
   "file_extension": ".py",
   "mimetype": "text/x-python",
   "name": "python",
   "nbconvert_exporter": "python",
   "pygments_lexer": "ipython3",
   "version": "3.7.3"
  }
 },
 "nbformat": 4,
 "nbformat_minor": 2
}
