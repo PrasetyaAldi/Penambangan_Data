{
 "cells": [
  {
   "cell_type": "code",
   "execution_count": 2,
   "metadata": {},
   "outputs": [
    {
     "data": {
      "text/html": [
       "<style  type=\"text/css\" >\n",
       "</style><table id=\"T_eb541964_cf31_11e9_bd13_68172956e5d6\" ><thead>    <tr>        <th class=\"col_heading level0 col0\" >stats</th>        <th class=\"col_heading level0 col1\" >tinggiBadan</th>        <th class=\"col_heading level0 col2\" >beratBadan</th>        <th class=\"col_heading level0 col3\" >ukuranSepatu</th>        <th class=\"col_heading level0 col4\" >NIM</th>    </tr></thead><tbody>\n",
       "                <tr>\n",
       "                                <td id=\"T_eb541964_cf31_11e9_bd13_68172956e5d6row0_col0\" class=\"data row0 col0\" >Min</td>\n",
       "                        <td id=\"T_eb541964_cf31_11e9_bd13_68172956e5d6row0_col1\" class=\"data row0 col1\" >155</td>\n",
       "                        <td id=\"T_eb541964_cf31_11e9_bd13_68172956e5d6row0_col2\" class=\"data row0 col2\" >51</td>\n",
       "                        <td id=\"T_eb541964_cf31_11e9_bd13_68172956e5d6row0_col3\" class=\"data row0 col3\" >30</td>\n",
       "                        <td id=\"T_eb541964_cf31_11e9_bd13_68172956e5d6row0_col4\" class=\"data row0 col4\" >2</td>\n",
       "            </tr>\n",
       "            <tr>\n",
       "                                <td id=\"T_eb541964_cf31_11e9_bd13_68172956e5d6row1_col0\" class=\"data row1 col0\" >Max</td>\n",
       "                        <td id=\"T_eb541964_cf31_11e9_bd13_68172956e5d6row1_col1\" class=\"data row1 col1\" >180</td>\n",
       "                        <td id=\"T_eb541964_cf31_11e9_bd13_68172956e5d6row1_col2\" class=\"data row1 col2\" >100</td>\n",
       "                        <td id=\"T_eb541964_cf31_11e9_bd13_68172956e5d6row1_col3\" class=\"data row1 col3\" >43</td>\n",
       "                        <td id=\"T_eb541964_cf31_11e9_bd13_68172956e5d6row1_col4\" class=\"data row1 col4\" >98</td>\n",
       "            </tr>\n",
       "            <tr>\n",
       "                                <td id=\"T_eb541964_cf31_11e9_bd13_68172956e5d6row2_col0\" class=\"data row2 col0\" >Mean</td>\n",
       "                        <td id=\"T_eb541964_cf31_11e9_bd13_68172956e5d6row2_col1\" class=\"data row2 col1\" >166.8</td>\n",
       "                        <td id=\"T_eb541964_cf31_11e9_bd13_68172956e5d6row2_col2\" class=\"data row2 col2\" >73.61</td>\n",
       "                        <td id=\"T_eb541964_cf31_11e9_bd13_68172956e5d6row2_col3\" class=\"data row2 col3\" >36.96</td>\n",
       "                        <td id=\"T_eb541964_cf31_11e9_bd13_68172956e5d6row2_col4\" class=\"data row2 col4\" >53.66</td>\n",
       "            </tr>\n",
       "            <tr>\n",
       "                                <td id=\"T_eb541964_cf31_11e9_bd13_68172956e5d6row3_col0\" class=\"data row3 col0\" >Standard Deviasi</td>\n",
       "                        <td id=\"T_eb541964_cf31_11e9_bd13_68172956e5d6row3_col1\" class=\"data row3 col1\" >7.24743</td>\n",
       "                        <td id=\"T_eb541964_cf31_11e9_bd13_68172956e5d6row3_col2\" class=\"data row3 col2\" >14.5671</td>\n",
       "                        <td id=\"T_eb541964_cf31_11e9_bd13_68172956e5d6row3_col3\" class=\"data row3 col3\" >3.96428</td>\n",
       "                        <td id=\"T_eb541964_cf31_11e9_bd13_68172956e5d6row3_col4\" class=\"data row3 col4\" >27.8423</td>\n",
       "            </tr>\n",
       "            <tr>\n",
       "                                <td id=\"T_eb541964_cf31_11e9_bd13_68172956e5d6row4_col0\" class=\"data row4 col0\" >Variasi</td>\n",
       "                        <td id=\"T_eb541964_cf31_11e9_bd13_68172956e5d6row4_col1\" class=\"data row4 col1\" >52.5253</td>\n",
       "                        <td id=\"T_eb541964_cf31_11e9_bd13_68172956e5d6row4_col2\" class=\"data row4 col2\" >212.2</td>\n",
       "                        <td id=\"T_eb541964_cf31_11e9_bd13_68172956e5d6row4_col3\" class=\"data row4 col3\" >15.7156</td>\n",
       "                        <td id=\"T_eb541964_cf31_11e9_bd13_68172956e5d6row4_col4\" class=\"data row4 col4\" >775.196</td>\n",
       "            </tr>\n",
       "            <tr>\n",
       "                                <td id=\"T_eb541964_cf31_11e9_bd13_68172956e5d6row5_col0\" class=\"data row5 col0\" >Skewnes</td>\n",
       "                        <td id=\"T_eb541964_cf31_11e9_bd13_68172956e5d6row5_col1\" class=\"data row5 col1\" >0.126684</td>\n",
       "                        <td id=\"T_eb541964_cf31_11e9_bd13_68172956e5d6row5_col2\" class=\"data row5 col2\" >0.177678</td>\n",
       "                        <td id=\"T_eb541964_cf31_11e9_bd13_68172956e5d6row5_col3\" class=\"data row5 col3\" >-0.025361</td>\n",
       "                        <td id=\"T_eb541964_cf31_11e9_bd13_68172956e5d6row5_col4\" class=\"data row5 col4\" >-0.217974</td>\n",
       "            </tr>\n",
       "            <tr>\n",
       "                                <td id=\"T_eb541964_cf31_11e9_bd13_68172956e5d6row6_col0\" class=\"data row6 col0\" >Quartile1</td>\n",
       "                        <td id=\"T_eb541964_cf31_11e9_bd13_68172956e5d6row6_col1\" class=\"data row6 col1\" >161</td>\n",
       "                        <td id=\"T_eb541964_cf31_11e9_bd13_68172956e5d6row6_col2\" class=\"data row6 col2\" >60.75</td>\n",
       "                        <td id=\"T_eb541964_cf31_11e9_bd13_68172956e5d6row6_col3\" class=\"data row6 col3\" >34</td>\n",
       "                        <td id=\"T_eb541964_cf31_11e9_bd13_68172956e5d6row6_col4\" class=\"data row6 col4\" >28.25</td>\n",
       "            </tr>\n",
       "            <tr>\n",
       "                                <td id=\"T_eb541964_cf31_11e9_bd13_68172956e5d6row7_col0\" class=\"data row7 col0\" >Quartile2</td>\n",
       "                        <td id=\"T_eb541964_cf31_11e9_bd13_68172956e5d6row7_col1\" class=\"data row7 col1\" >167</td>\n",
       "                        <td id=\"T_eb541964_cf31_11e9_bd13_68172956e5d6row7_col2\" class=\"data row7 col2\" >71</td>\n",
       "                        <td id=\"T_eb541964_cf31_11e9_bd13_68172956e5d6row7_col3\" class=\"data row7 col3\" >37</td>\n",
       "                        <td id=\"T_eb541964_cf31_11e9_bd13_68172956e5d6row7_col4\" class=\"data row7 col4\" >59</td>\n",
       "            </tr>\n",
       "            <tr>\n",
       "                                <td id=\"T_eb541964_cf31_11e9_bd13_68172956e5d6row8_col0\" class=\"data row8 col0\" >Quartile3</td>\n",
       "                        <td id=\"T_eb541964_cf31_11e9_bd13_68172956e5d6row8_col1\" class=\"data row8 col1\" >172</td>\n",
       "                        <td id=\"T_eb541964_cf31_11e9_bd13_68172956e5d6row8_col2\" class=\"data row8 col2\" >86.25</td>\n",
       "                        <td id=\"T_eb541964_cf31_11e9_bd13_68172956e5d6row8_col3\" class=\"data row8 col3\" >40</td>\n",
       "                        <td id=\"T_eb541964_cf31_11e9_bd13_68172956e5d6row8_col4\" class=\"data row8 col4\" >78.25</td>\n",
       "            </tr>\n",
       "            <tr>\n",
       "                                <td id=\"T_eb541964_cf31_11e9_bd13_68172956e5d6row9_col0\" class=\"data row9 col0\" >Median</td>\n",
       "                        <td id=\"T_eb541964_cf31_11e9_bd13_68172956e5d6row9_col1\" class=\"data row9 col1\" >166.8</td>\n",
       "                        <td id=\"T_eb541964_cf31_11e9_bd13_68172956e5d6row9_col2\" class=\"data row9 col2\" >73.61</td>\n",
       "                        <td id=\"T_eb541964_cf31_11e9_bd13_68172956e5d6row9_col3\" class=\"data row9 col3\" >36.96</td>\n",
       "                        <td id=\"T_eb541964_cf31_11e9_bd13_68172956e5d6row9_col4\" class=\"data row9 col4\" >53.66</td>\n",
       "            </tr>\n",
       "            <tr>\n",
       "                                <td id=\"T_eb541964_cf31_11e9_bd13_68172956e5d6row10_col0\" class=\"data row10 col0\" >Modus</td>\n",
       "                        <td id=\"T_eb541964_cf31_11e9_bd13_68172956e5d6row10_col1\" class=\"data row10 col1\" >167</td>\n",
       "                        <td id=\"T_eb541964_cf31_11e9_bd13_68172956e5d6row10_col2\" class=\"data row10 col2\" >57</td>\n",
       "                        <td id=\"T_eb541964_cf31_11e9_bd13_68172956e5d6row10_col3\" class=\"data row10 col3\" >43</td>\n",
       "                        <td id=\"T_eb541964_cf31_11e9_bd13_68172956e5d6row10_col4\" class=\"data row10 col4\" >59</td>\n",
       "            </tr>\n",
       "    </tbody></table>"
      ],
      "text/plain": [
       "<pandas.io.formats.style.Styler at 0x1e4dd359208>"
      ]
     },
     "execution_count": 2,
     "metadata": {},
     "output_type": "execute_result"
    }
   ],
   "source": [
    "import pandas as pd\n",
    "from scipy import stats\n",
    "df = pd.read_csv('data.csv', sep=';')\n",
    "temp = {'stats':['Min','Max','Mean','Standard Deviasi','Variasi','Skewnes','Quartile1','Quartile2','Quartile3'\n",
    "                 ,'Median','Modus']}\n",
    "\n",
    "for i in df.columns:\n",
    "    temp[i] = [df[i].min(), df[i].max(), df[i].mean(), df[i].std(), df[i].var(), \n",
    "               df[i].skew(), df[i].quantile(0.25), df[i].quantile(0.5), \n",
    "               df[i].quantile(0.75), df[i].mean(), stats.mode(df[i]).mode[0]]\n",
    "\n",
    "file = pd.DataFrame(temp)\n",
    "file.style.hide_index()"
   ]
  },
  {
   "cell_type": "code",
   "execution_count": null,
   "metadata": {},
   "outputs": [],
   "source": []
  }
 ],
 "metadata": {
  "kernelspec": {
   "display_name": "Python 3",
   "language": "python",
   "name": "python3"
  },
  "language_info": {
   "codemirror_mode": {
    "name": "ipython",
    "version": 3
   },
   "file_extension": ".py",
   "mimetype": "text/x-python",
   "name": "python",
   "nbconvert_exporter": "python",
   "pygments_lexer": "ipython3",
   "version": "3.7.3"
  }
 },
 "nbformat": 4,
 "nbformat_minor": 2
}
